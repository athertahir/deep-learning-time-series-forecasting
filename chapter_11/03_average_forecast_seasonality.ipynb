{
  "nbformat_minor": 1, 
  "nbformat": 4, 
  "cells": [
    {
      "source": [
        "# example of an average forecast for seasonal data\n", 
        "from numpy import mean\n", 
        "from numpy import median\n", 
        "\n", 
        "# one-step average forecast\n", 
        "def average_forecast(history, config):\n", 
        "\tn, offset, avg_type = config\n", 
        "\tvalues = list()\n", 
        "\tif offset == 1:\n", 
        "\t\tvalues = history[-n:]\n", 
        "\telse:\n", 
        "\t\t# skip bad configs\n", 
        "\t\tif n*offset > len(history):\n", 
        "\t\t\traise Exception('Config beyond end of data: %d %d' % (n,offset))\n", 
        "\t\t# try and collect n values using offset\n", 
        "\t\tfor i in range(1, n+1):\n", 
        "\t\t\tix = i * offset\n", 
        "\t\t\tvalues.append(history[-ix])\n", 
        "\t# mean of last n values\n", 
        "\tif avg_type is 'mean':\n", 
        "\t\treturn mean(values)\n", 
        "\t# median of last n values\n", 
        "\treturn median(values)\n", 
        "\n", 
        "# define dataset\n", 
        "data = [10.0, 20.0, 30.0, 10.0, 20.0, 30.0, 10.0, 20.0, 30.0]\n", 
        "print(data)\n", 
        "# test naive forecast\n", 
        "for i in [1, 2, 3]:\n", 
        "\tprint(average_forecast(data, (i, 3, 'mean')))"
      ], 
      "cell_type": "code", 
      "execution_count": null, 
      "outputs": [], 
      "metadata": {}
    }
  ], 
  "metadata": {
    "kernelspec": {
      "display_name": "Python 3", 
      "name": "python3", 
      "language": "python"
    }, 
    "language_info": {
      "mimetype": "text/x-python", 
      "nbconvert_exporter": "python", 
      "name": "python", 
      "file_extension": ".py", 
      "version": "3.6.1", 
      "pygments_lexer": "ipython3", 
      "codemirror_mode": {
        "version": 3, 
        "name": "ipython"
      }
    }, 
    "anaconda-cloud": {}
  }
}