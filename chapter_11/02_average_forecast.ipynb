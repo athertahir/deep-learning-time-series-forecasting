{
  "nbformat_minor": 1, 
  "nbformat": 4, 
  "cells": [
    {
      "source": [
        "# example of an average forecast\n", 
        "from numpy import mean\n", 
        "from numpy import median\n", 
        "\n", 
        "# one-step average forecast\n", 
        "def average_forecast(history, config):\n", 
        "\tn, avg_type = config\n", 
        "\t# mean of last n values\n", 
        "\tif avg_type is 'mean':\n", 
        "\t\treturn mean(history[-n:])\n", 
        "\t# median of last n values\n", 
        "\treturn median(history[-n:])\n", 
        "\n", 
        "# define dataset\n", 
        "data = [10.0, 20.0, 30.0, 40.0, 50.0, 60.0, 70.0, 80.0, 90.0, 100.0]\n", 
        "print(data)\n", 
        "# test naive forecast\n", 
        "for i in range(1, len(data)+1):\n", 
        "\tprint(average_forecast(data, (i, 'mean')))"
      ], 
      "cell_type": "code", 
      "execution_count": null, 
      "outputs": [], 
      "metadata": {}
    }
  ], 
  "metadata": {
    "kernelspec": {
      "display_name": "Python 3", 
      "name": "python3", 
      "language": "python"
    }, 
    "language_info": {
      "mimetype": "text/x-python", 
      "nbconvert_exporter": "python", 
      "name": "python", 
      "file_extension": ".py", 
      "version": "3.6.1", 
      "pygments_lexer": "ipython3", 
      "codemirror_mode": {
        "version": 3, 
        "name": "ipython"
      }
    }, 
    "anaconda-cloud": {}
  }
}