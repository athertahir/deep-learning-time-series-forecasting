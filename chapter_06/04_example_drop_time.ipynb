{
  "nbformat_minor": 1, 
  "nbformat": 4, 
  "cells": [
    {
      "source": [
        "# example of dropping the time dimension from the dataset\n", 
        "from numpy import array\n", 
        "\n", 
        "# define the dataset\n", 
        "data = list()\n", 
        "n = 5000\n", 
        "for i in range(n):\n", 
        "\tdata.append([i+1, (i+1)*10])\n", 
        "data = array(data)\n", 
        "# drop time\n", 
        "data = data[:, 1]\n", 
        "print(data.shape)"
      ], 
      "cell_type": "code", 
      "execution_count": null, 
      "outputs": [], 
      "metadata": {}
    }
  ], 
  "metadata": {
    "kernelspec": {
      "display_name": "Python 3", 
      "name": "python3", 
      "language": "python"
    }, 
    "language_info": {
      "mimetype": "text/x-python", 
      "nbconvert_exporter": "python", 
      "name": "python", 
      "file_extension": ".py", 
      "version": "3.6.1", 
      "pygments_lexer": "ipython3", 
      "codemirror_mode": {
        "version": 3, 
        "name": "ipython"
      }
    }, 
    "anaconda-cloud": {}
  }
}