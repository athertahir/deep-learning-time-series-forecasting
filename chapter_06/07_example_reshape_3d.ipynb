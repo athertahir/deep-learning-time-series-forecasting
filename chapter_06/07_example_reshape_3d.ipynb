{
  "nbformat_minor": 1, 
  "nbformat": 4, 
  "cells": [
    {
      "source": [
        "# example of creating a 3d array of subsequences\n", 
        "from numpy import array\n", 
        "\n", 
        "# define the dataset\n", 
        "data = list()\n", 
        "n = 5000\n", 
        "for i in range(n):\n", 
        "\tdata.append([i+1, (i+1)*10])\n", 
        "data = array(data)\n", 
        "# drop time\n", 
        "data = data[:, 1]\n", 
        "# split into samples (e.g. 5000/200 = 25)\n", 
        "samples = list()\n", 
        "length = 200\n", 
        "# step over the 5,000 in jumps of 200\n", 
        "for i in range(0,n,length):\n", 
        "\t# grab from i to i + 200\n", 
        "\tsample = data[i:i+length]\n", 
        "\tsamples.append(sample)\n", 
        "# convert list of arrays into 2d array\n", 
        "data = array(samples)\n", 
        "# reshape into [samples, timesteps, features]\n", 
        "data = data.reshape((len(samples), length, 1))\n", 
        "print(data.shape)"
      ], 
      "cell_type": "code", 
      "execution_count": null, 
      "outputs": [], 
      "metadata": {}
    }
  ], 
  "metadata": {
    "kernelspec": {
      "display_name": "Python 3", 
      "name": "python3", 
      "language": "python"
    }, 
    "language_info": {
      "mimetype": "text/x-python", 
      "nbconvert_exporter": "python", 
      "name": "python", 
      "file_extension": ".py", 
      "version": "3.6.1", 
      "pygments_lexer": "ipython3", 
      "codemirror_mode": {
        "version": 3, 
        "name": "ipython"
      }
    }, 
    "anaconda-cloud": {}
  }
}