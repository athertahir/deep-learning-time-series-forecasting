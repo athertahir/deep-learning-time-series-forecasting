{
  "nbformat_minor": 1, 
  "nbformat": 4, 
  "cells": [
    {
      "source": [
        "# transform univariate time series to supervised learning problem\n", 
        "from numpy import array\n", 
        "\n", 
        "# split a univariate sequence into samples\n", 
        "def split_sequence(sequence, n_steps):\n", 
        "\tX, y = list(), list()\n", 
        "\tfor i in range(len(sequence)):\n", 
        "\t\t# find the end of this pattern\n", 
        "\t\tend_ix = i + n_steps\n", 
        "\t\t# check if we are beyond the sequence\n", 
        "\t\tif end_ix > len(sequence)-1:\n", 
        "\t\t\tbreak\n", 
        "\t\t# gather input and output parts of the pattern\n", 
        "\t\tseq_x, seq_y = sequence[i:end_ix], sequence[end_ix]\n", 
        "\t\tX.append(seq_x)\n", 
        "\t\ty.append(seq_y)\n", 
        "\treturn array(X), array(y)\n", 
        "\n", 
        "# define univariate time series\n", 
        "series = array([1, 2, 3, 4, 5, 6, 7, 8, 9, 10])\n", 
        "print(series.shape)\n", 
        "# transform to a supervised learning problem\n", 
        "X, y = split_sequence(series, 3)\n", 
        "print(X.shape, y.shape)\n", 
        "# show each sample\n", 
        "for i in range(len(X)):\n", 
        "\tprint(X[i], y[i])\n"
      ], 
      "cell_type": "code", 
      "execution_count": null, 
      "outputs": [], 
      "metadata": {}
    }
  ], 
  "metadata": {
    "kernelspec": {
      "display_name": "Python 3", 
      "name": "python3", 
      "language": "python"
    }, 
    "language_info": {
      "mimetype": "text/x-python", 
      "nbconvert_exporter": "python", 
      "name": "python", 
      "file_extension": ".py", 
      "version": "3.6.1", 
      "pygments_lexer": "ipython3", 
      "codemirror_mode": {
        "version": 3, 
        "name": "ipython"
      }
    }, 
    "anaconda-cloud": {}
  }
}