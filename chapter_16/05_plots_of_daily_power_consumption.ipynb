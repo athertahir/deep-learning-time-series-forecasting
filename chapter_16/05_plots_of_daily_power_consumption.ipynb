{
  "nbformat_minor": 1, 
  "nbformat": 4, 
  "cells": [
    {
      "source": [
        "# daily line plots for power usage dataset\n", 
        "from pandas import read_csv\n", 
        "import warnings\n", 
        "warnings.simplefilter(\"ignore\")\n", 
        "%matplotlib inline\n", 
        "from matplotlib import pyplot\n", 
        "# load the new file\n", 
        "dataset = read_csv('household_power_consumption.csv', header=0, infer_datetime_format=True, parse_dates=['datetime'], index_col=['datetime'])\n", 
        "# plot active power for each year\n", 
        "days = [x for x in range(1, 20)]\n", 
        "pyplot.figure()\n", 
        "for i in range(len(days)):\n", 
        "\t# prepare subplot\n", 
        "\tax = pyplot.subplot(len(days), 1, i+1)\n", 
        "\t# determine the day to plot\n", 
        "\tday = '2007-01-' + str(days[i])\n", 
        "\t# get all observations for the day\n", 
        "\tresult = dataset[day]\n", 
        "\t# plot the active power for the day\n", 
        "\tpyplot.plot(result['Global_active_power'])\n", 
        "\t# add a title to the subplot\n", 
        "\tpyplot.title(day, y=0, loc='left', size=6)\n", 
        "\t# turn off ticks to remove clutter\n", 
        "\tpyplot.yticks([])\n", 
        "\tpyplot.xticks([])\n", 
        "pyplot.show()"
      ], 
      "cell_type": "code", 
      "execution_count": null, 
      "outputs": [], 
      "metadata": {}
    }
  ], 
  "metadata": {
    "kernelspec": {
      "display_name": "Python 3", 
      "name": "python3", 
      "language": "python"
    }, 
    "language_info": {
      "mimetype": "text/x-python", 
      "nbconvert_exporter": "python", 
      "name": "python", 
      "file_extension": ".py", 
      "version": "3.6.1", 
      "pygments_lexer": "ipython3", 
      "codemirror_mode": {
        "version": 3, 
        "name": "ipython"
      }
    }, 
    "anaconda-cloud": {}
  }
}