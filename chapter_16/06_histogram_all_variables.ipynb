{
  "nbformat_minor": 1, 
  "nbformat": 4, 
  "cells": [
    {
      "source": [
        "# histogram plots for power usage dataset\n", 
        "from pandas import read_csv\n", 
        "import warnings\n", 
        "warnings.simplefilter(\"ignore\")\n", 
        "%matplotlib inline\n", 
        "from matplotlib import pyplot\n", 
        "# load the new file\n", 
        "dataset = read_csv('household_power_consumption.csv', header=0, infer_datetime_format=True, parse_dates=['datetime'], index_col=['datetime'])\n", 
        "# histogram plot for each variable\n", 
        "pyplot.figure()\n", 
        "for i in range(len(dataset.columns)):\n", 
        "\t# create subplot\n", 
        "\tpyplot.subplot(len(dataset.columns), 1, i+1)\n", 
        "\t# get variable name\n", 
        "\tname = dataset.columns[i]\n", 
        "\t# create histogram\n", 
        "\tdataset[name].hist(bins=100)\n", 
        "\t# set title\n", 
        "\tpyplot.title(name, y=0, loc='right')\n", 
        "\t# turn off ticks to remove clutter\n", 
        "\tpyplot.yticks([])\n", 
        "\tpyplot.xticks([])\n", 
        "pyplot.show()"
      ], 
      "cell_type": "code", 
      "execution_count": null, 
      "outputs": [], 
      "metadata": {}
    }
  ], 
  "metadata": {
    "kernelspec": {
      "display_name": "Python 3", 
      "name": "python3", 
      "language": "python"
    }, 
    "language_info": {
      "mimetype": "text/x-python", 
      "nbconvert_exporter": "python", 
      "name": "python", 
      "file_extension": ".py", 
      "version": "3.6.1", 
      "pygments_lexer": "ipython3", 
      "codemirror_mode": {
        "version": 3, 
        "name": "ipython"
      }
    }, 
    "anaconda-cloud": {}
  }
}