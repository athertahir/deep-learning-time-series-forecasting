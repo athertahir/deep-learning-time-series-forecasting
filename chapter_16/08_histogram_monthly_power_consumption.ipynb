{
  "nbformat_minor": 1, 
  "nbformat": 4, 
  "cells": [
    {
      "source": [
        "# monthly histogram plots for power usage dataset\n", 
        "from pandas import read_csv\n", 
        "import warnings\n", 
        "warnings.simplefilter(\"ignore\")\n", 
        "%matplotlib inline\n", 
        "from matplotlib import pyplot\n", 
        "# load the new file\n", 
        "dataset = read_csv('household_power_consumption.csv', header=0, infer_datetime_format=True, parse_dates=['datetime'], index_col=['datetime'])\n", 
        "# plot active power for each year\n", 
        "months = [x for x in range(1, 13)]\n", 
        "pyplot.figure()\n", 
        "for i in range(len(months)):\n", 
        "\t# prepare subplot\n", 
        "\tax = pyplot.subplot(len(months), 1, i+1)\n", 
        "\t# determine the month to plot\n", 
        "\tmonth = '2007-' + str(months[i])\n", 
        "\t# get all observations for the month\n", 
        "\tresult = dataset[month]\n", 
        "\t# plot the active power for the month\n", 
        "\tresult['Global_active_power'].hist(bins=100)\n", 
        "\t# zoom in on the distribution\n", 
        "\tax.set_xlim(0, 5)\n", 
        "\t# add a title to the subplot\n", 
        "\tpyplot.title(month, y=0, loc='right')\n", 
        "\t# turn off ticks to remove clutter\n", 
        "\tpyplot.yticks([])\n", 
        "\tpyplot.xticks([])\n", 
        "pyplot.show()"
      ], 
      "cell_type": "code", 
      "execution_count": null, 
      "outputs": [], 
      "metadata": {}
    }
  ], 
  "metadata": {
    "kernelspec": {
      "display_name": "Python 3", 
      "name": "python3", 
      "language": "python"
    }, 
    "language_info": {
      "mimetype": "text/x-python", 
      "nbconvert_exporter": "python", 
      "name": "python", 
      "file_extension": ".py", 
      "version": "3.6.1", 
      "pygments_lexer": "ipython3", 
      "codemirror_mode": {
        "version": 3, 
        "name": "ipython"
      }
    }, 
    "anaconda-cloud": {}
  }
}