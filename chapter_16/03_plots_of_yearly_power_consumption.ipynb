{
  "nbformat_minor": 1, 
  "nbformat": 4, 
  "cells": [
    {
      "source": [
        "# yearly line plots for power usage dataset\n", 
        "from pandas import read_csv\n", 
        "import warnings\n", 
        "warnings.simplefilter(\"ignore\")\n", 
        "%matplotlib inline\n", 
        "from matplotlib import pyplot\n", 
        "# load the new file\n", 
        "dataset = read_csv('household_power_consumption.csv', header=0, infer_datetime_format=True, parse_dates=['datetime'], index_col=['datetime'])\n", 
        "# plot active power for each year\n", 
        "years = ['2007', '2008', '2009', '2010']\n", 
        "pyplot.figure()\n", 
        "for i in range(len(years)):\n", 
        "\t# prepare subplot\n", 
        "\tax = pyplot.subplot(len(years), 1, i+1)\n", 
        "\t# determine the year to plot\n", 
        "\tyear = years[i]\n", 
        "\t# get all observations for the year\n", 
        "\tresult = dataset[str(year)]\n", 
        "\t# plot the active power for the year\n", 
        "\tpyplot.plot(result['Global_active_power'])\n", 
        "\t# add a title to the subplot\n", 
        "\tpyplot.title(str(year), y=0, loc='left')\n", 
        "\t# turn off ticks to remove clutter\n", 
        "\tpyplot.yticks([])\n", 
        "\tpyplot.xticks([])\n", 
        "pyplot.show()"
      ], 
      "cell_type": "code", 
      "execution_count": null, 
      "outputs": [], 
      "metadata": {}
    }
  ], 
  "metadata": {
    "kernelspec": {
      "display_name": "Python 3", 
      "name": "python3", 
      "language": "python"
    }, 
    "language_info": {
      "mimetype": "text/x-python", 
      "nbconvert_exporter": "python", 
      "name": "python", 
      "file_extension": ".py", 
      "version": "3.6.1", 
      "pygments_lexer": "ipython3", 
      "codemirror_mode": {
        "version": 3, 
        "name": "ipython"
      }
    }, 
    "anaconda-cloud": {}
  }
}