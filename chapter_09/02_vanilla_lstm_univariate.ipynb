{
  "nbformat_minor": 1, 
  "nbformat": 4, 
  "cells": [
    {
      "source": [
        "# univariate lstm example\n", 
        "from numpy import array\n", 
        "from keras.models import Sequential\n", 
        "from keras.layers import LSTM\n", 
        "from keras.layers import Dense\n", 
        "import tensorflow.python.util.deprecation as deprecation\n", 
        "deprecation._PRINT_DEPRECATION_WARNINGS = False\n", 
        "\n", 
        "# split a univariate sequence into samples\n", 
        "def split_sequence(sequence, n_steps):\n", 
        "\tX, y = list(), list()\n", 
        "\tfor i in range(len(sequence)):\n", 
        "\t\t# find the end of this pattern\n", 
        "\t\tend_ix = i + n_steps\n", 
        "\t\t# check if we are beyond the sequence\n", 
        "\t\tif end_ix > len(sequence)-1:\n", 
        "\t\t\tbreak\n", 
        "\t\t# gather input and output parts of the pattern\n", 
        "\t\tseq_x, seq_y = sequence[i:end_ix], sequence[end_ix]\n", 
        "\t\tX.append(seq_x)\n", 
        "\t\ty.append(seq_y)\n", 
        "\treturn array(X), array(y)\n", 
        "\n", 
        "# define input sequence\n", 
        "raw_seq = [10, 20, 30, 40, 50, 60, 70, 80, 90]\n", 
        "# choose a number of time steps\n", 
        "n_steps = 3\n", 
        "# split into samples\n", 
        "X, y = split_sequence(raw_seq, n_steps)\n", 
        "# reshape from [samples, timesteps] into [samples, timesteps, features]\n", 
        "n_features = 1\n", 
        "X = X.reshape((X.shape[0], X.shape[1], n_features))\n", 
        "# define model\n", 
        "model = Sequential()\n", 
        "model.add(LSTM(50, activation='relu', input_shape=(n_steps, n_features)))\n", 
        "model.add(Dense(1))\n", 
        "model.compile(optimizer='adam', loss='mse')\n", 
        "# fit model\n", 
        "model.fit(X, y, epochs=200, verbose=0)\n", 
        "# demonstrate prediction\n", 
        "x_input = array([70, 80, 90])\n", 
        "x_input = x_input.reshape((1, n_steps, n_features))\n", 
        "yhat = model.predict(x_input, verbose=0)\n", 
        "print(yhat)"
      ], 
      "cell_type": "code", 
      "execution_count": null, 
      "outputs": [], 
      "metadata": {}
    }
  ], 
  "metadata": {
    "kernelspec": {
      "display_name": "Python 3", 
      "name": "python3", 
      "language": "python"
    }, 
    "language_info": {
      "mimetype": "text/x-python", 
      "nbconvert_exporter": "python", 
      "name": "python", 
      "file_extension": ".py", 
      "version": "3.6.1", 
      "pygments_lexer": "ipython3", 
      "codemirror_mode": {
        "version": 3, 
        "name": "ipython"
      }
    }, 
    "anaconda-cloud": {}
  }
}