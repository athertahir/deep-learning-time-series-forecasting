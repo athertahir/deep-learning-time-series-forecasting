{
  "nbformat_minor": 1, 
  "nbformat": 4, 
  "cells": [
    {
      "source": [
        "# univariate data preparation\n", 
        "from numpy import array\n", 
        "\n", 
        "# split a univariate sequence into samples\n", 
        "def split_sequence(sequence, n_steps):\n", 
        "\tX, y = list(), list()\n", 
        "\tfor i in range(len(sequence)):\n", 
        "\t\t# find the end of this pattern\n", 
        "\t\tend_ix = i + n_steps\n", 
        "\t\t# check if we are beyond the sequence\n", 
        "\t\tif end_ix > len(sequence)-1:\n", 
        "\t\t\tbreak\n", 
        "\t\t# gather input and output parts of the pattern\n", 
        "\t\tseq_x, seq_y = sequence[i:end_ix], sequence[end_ix]\n", 
        "\t\tX.append(seq_x)\n", 
        "\t\ty.append(seq_y)\n", 
        "\treturn array(X), array(y)\n", 
        "\n", 
        "# define input sequence\n", 
        "raw_seq = [10, 20, 30, 40, 50, 60, 70, 80, 90]\n", 
        "# choose a number of time steps\n", 
        "n_steps = 3\n", 
        "# split into samples\n", 
        "X, y = split_sequence(raw_seq, n_steps)\n", 
        "# summarize the data\n", 
        "for i in range(len(X)):\n", 
        "\tprint(X[i], y[i])"
      ], 
      "cell_type": "code", 
      "execution_count": null, 
      "outputs": [], 
      "metadata": {}
    }
  ], 
  "metadata": {
    "kernelspec": {
      "display_name": "Python 3", 
      "name": "python3", 
      "language": "python"
    }, 
    "language_info": {
      "mimetype": "text/x-python", 
      "nbconvert_exporter": "python", 
      "name": "python", 
      "file_extension": ".py", 
      "version": "3.6.1", 
      "pygments_lexer": "ipython3", 
      "codemirror_mode": {
        "version": 3, 
        "name": "ipython"
      }
    }, 
    "anaconda-cloud": {}
  }
}