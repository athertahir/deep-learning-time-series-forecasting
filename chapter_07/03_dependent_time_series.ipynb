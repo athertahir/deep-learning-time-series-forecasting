{
  "nbformat_minor": 1, 
  "nbformat": 4, 
  "cells": [
    {
      "source": [
        "# multivariate data preparation\n", 
        "from numpy import array\n", 
        "from numpy import hstack\n", 
        "# define input sequence\n", 
        "in_seq1 = array([10, 20, 30, 40, 50, 60, 70, 80, 90])\n", 
        "in_seq2 = array([15, 25, 35, 45, 55, 65, 75, 85, 95])\n", 
        "out_seq = array([in_seq1[i]+in_seq2[i] for i in range(len(in_seq1))])\n", 
        "# convert to [rows, columns] structure\n", 
        "in_seq1 = in_seq1.reshape((len(in_seq1), 1))\n", 
        "in_seq2 = in_seq2.reshape((len(in_seq2), 1))\n", 
        "out_seq = out_seq.reshape((len(out_seq), 1))\n", 
        "# horizontally stack columns\n", 
        "dataset = hstack((in_seq1, in_seq2, out_seq))\n", 
        "print(dataset)"
      ], 
      "cell_type": "code", 
      "execution_count": null, 
      "outputs": [], 
      "metadata": {}
    }
  ], 
  "metadata": {
    "kernelspec": {
      "display_name": "Python 3", 
      "name": "python3", 
      "language": "python"
    }, 
    "language_info": {
      "mimetype": "text/x-python", 
      "nbconvert_exporter": "python", 
      "name": "python", 
      "file_extension": ".py", 
      "version": "3.6.1", 
      "pygments_lexer": "ipython3", 
      "codemirror_mode": {
        "version": 3, 
        "name": "ipython"
      }
    }, 
    "anaconda-cloud": {}
  }
}