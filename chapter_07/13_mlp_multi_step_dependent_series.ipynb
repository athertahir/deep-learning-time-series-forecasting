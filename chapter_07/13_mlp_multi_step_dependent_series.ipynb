{
  "nbformat_minor": 1, 
  "nbformat": 4, 
  "cells": [
    {
      "source": [
        "# multivariate multi-step mlp example\n", 
        "from numpy import array\n", 
        "from numpy import hstack\n", 
        "from keras.models import Sequential\n", 
        "from keras.layers import Dense\n", 
        "import tensorflow.python.util.deprecation as deprecation\n", 
        "deprecation._PRINT_DEPRECATION_WARNINGS = False\n", 
        "\n", 
        "# split a multivariate sequence into samples\n", 
        "def split_sequences(sequences, n_steps_in, n_steps_out):\n", 
        "\tX, y = list(), list()\n", 
        "\tfor i in range(len(sequences)):\n", 
        "\t\t# find the end of this pattern\n", 
        "\t\tend_ix = i + n_steps_in\n", 
        "\t\tout_end_ix = end_ix + n_steps_out-1\n", 
        "\t\t# check if we are beyond the dataset\n", 
        "\t\tif out_end_ix > len(sequences):\n", 
        "\t\t\tbreak\n", 
        "\t\t# gather input and output parts of the pattern\n", 
        "\t\tseq_x, seq_y = sequences[i:end_ix, :-1], sequences[end_ix-1:out_end_ix, -1]\n", 
        "\t\tX.append(seq_x)\n", 
        "\t\ty.append(seq_y)\n", 
        "\treturn array(X), array(y)\n", 
        "\n", 
        "# define input sequence\n", 
        "in_seq1 = array([10, 20, 30, 40, 50, 60, 70, 80, 90])\n", 
        "in_seq2 = array([15, 25, 35, 45, 55, 65, 75, 85, 95])\n", 
        "out_seq = array([in_seq1[i]+in_seq2[i] for i in range(len(in_seq1))])\n", 
        "# convert to [rows, columns] structure\n", 
        "in_seq1 = in_seq1.reshape((len(in_seq1), 1))\n", 
        "in_seq2 = in_seq2.reshape((len(in_seq2), 1))\n", 
        "out_seq = out_seq.reshape((len(out_seq), 1))\n", 
        "# horizontally stack columns\n", 
        "dataset = hstack((in_seq1, in_seq2, out_seq))\n", 
        "# choose a number of time steps\n", 
        "n_steps_in, n_steps_out = 3, 2\n", 
        "# convert into input/output\n", 
        "X, y = split_sequences(dataset, n_steps_in, n_steps_out)\n", 
        "# flatten input\n", 
        "n_input = X.shape[1] * X.shape[2]\n", 
        "X = X.reshape((X.shape[0], n_input))\n", 
        "# define model\n", 
        "model = Sequential()\n", 
        "model.add(Dense(100, activation='relu', input_dim=n_input))\n", 
        "model.add(Dense(n_steps_out))\n", 
        "model.compile(optimizer='adam', loss='mse')\n", 
        "# fit model\n", 
        "model.fit(X, y, epochs=2000, verbose=0)\n", 
        "# demonstrate prediction\n", 
        "x_input = array([[70, 75], [80, 85], [90, 95]])\n", 
        "x_input = x_input.reshape((1, n_input))\n", 
        "yhat = model.predict(x_input, verbose=0)\n", 
        "print(yhat)"
      ], 
      "cell_type": "code", 
      "execution_count": null, 
      "outputs": [], 
      "metadata": {}
    }
  ], 
  "metadata": {
    "kernelspec": {
      "display_name": "Python 3", 
      "name": "python3", 
      "language": "python"
    }, 
    "language_info": {
      "mimetype": "text/x-python", 
      "nbconvert_exporter": "python", 
      "name": "python", 
      "file_extension": ".py", 
      "version": "3.6.1", 
      "pygments_lexer": "ipython3", 
      "codemirror_mode": {
        "version": 3, 
        "name": "ipython"
      }
    }, 
    "anaconda-cloud": {}
  }
}