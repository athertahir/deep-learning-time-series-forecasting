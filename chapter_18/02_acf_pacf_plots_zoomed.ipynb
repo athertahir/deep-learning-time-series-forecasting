{
  "nbformat_minor": 1, 
  "nbformat": 4, 
  "cells": [
    {
      "source": [
        "# zoomed acf and pacf plots of total power usage\n", 
        "from numpy import split\n", 
        "from numpy import array\n", 
        "from pandas import read_csv\n", 
        "import warnings\n", 
        "warnings.simplefilter(\"ignore\")\n", 
        "%matplotlib inline\n", 
        "from matplotlib import pyplot\n", 
        "from statsmodels.graphics.tsaplots import plot_acf\n", 
        "from statsmodels.graphics.tsaplots import plot_pacf\n", 
        "\n", 
        "# split a univariate dataset into train/test sets\n", 
        "def split_dataset(data):\n", 
        "\t# split into standard weeks\n", 
        "\ttrain, test = data[1:-328], data[-328:-6]\n", 
        "\t# restructure into windows of weekly data\n", 
        "\ttrain = array(split(train, len(train)/7))\n", 
        "\ttest = array(split(test, len(test)/7))\n", 
        "\treturn train, test\n", 
        "\n", 
        "# convert windows of weekly multivariate data into a series of total power\n", 
        "def to_series(data):\n", 
        "\t# extract just the total power from each week\n", 
        "\tseries = [week[:, 0] for week in data]\n", 
        "\t# flatten into a single series\n", 
        "\tseries = array(series).flatten()\n", 
        "\treturn series\n", 
        "\n", 
        "# load the new file\n", 
        "dataset = read_csv('household_power_consumption_days.csv', header=0, infer_datetime_format=True, parse_dates=['datetime'], index_col=['datetime'])\n", 
        "# split into train and test\n", 
        "train, test = split_dataset(dataset.values)\n", 
        "# convert training data into a series\n", 
        "series = to_series(train)\n", 
        "# plots\n", 
        "pyplot.figure()\n", 
        "lags = 50\n", 
        "# acf\n", 
        "axis = pyplot.subplot(2, 1, 1)\n", 
        "plot_acf(series, ax=axis, lags=lags)\n", 
        "# pacf\n", 
        "axis = pyplot.subplot(2, 1, 2)\n", 
        "plot_pacf(series, ax=axis, lags=lags)\n", 
        "# show plot\n", 
        "pyplot.show()"
      ], 
      "cell_type": "code", 
      "execution_count": null, 
      "outputs": [], 
      "metadata": {}
    }
  ], 
  "metadata": {
    "kernelspec": {
      "display_name": "Python 3", 
      "name": "python3", 
      "language": "python"
    }, 
    "language_info": {
      "mimetype": "text/x-python", 
      "nbconvert_exporter": "python", 
      "name": "python", 
      "file_extension": ".py", 
      "version": "3.6.1", 
      "pygments_lexer": "ipython3", 
      "codemirror_mode": {
        "version": 3, 
        "name": "ipython"
      }
    }, 
    "anaconda-cloud": {}
  }
}