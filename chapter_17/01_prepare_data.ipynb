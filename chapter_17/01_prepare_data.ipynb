{
  "nbformat_minor": 1, 
  "nbformat": 4, 
  "cells": [
    {
      "source": [
        "# load and clean-up the power usage dataset\n", 
        "from numpy import nan\n", 
        "from numpy import isnan\n", 
        "from pandas import read_csv\n", 
        "import warnings\n", 
        "warnings.simplefilter(\"ignore\")\n", 
        "\n", 
        "# fill missing values with a value at the same time one day ago\n", 
        "def fill_missing(values):\n", 
        "\tone_day = 60 * 24\n", 
        "\tfor row in range(values.shape[0]):\n", 
        "\t\tfor col in range(values.shape[1]):\n", 
        "\t\t\tif isnan(values[row, col]):\n", 
        "\t\t\t\tvalues[row, col] = values[row - one_day, col]\n", 
        "\n", 
        "# load all data\n", 
        "dataset = read_csv('household_power_consumption.txt', sep=';', header=0, low_memory=False, infer_datetime_format=True, parse_dates={'datetime':[0,1]}, index_col=['datetime'])\n", 
        "# mark all missing values\n", 
        "dataset.replace('?', nan, inplace=True)\n", 
        "# make dataset numeric\n", 
        "dataset = dataset.astype('float32')\n", 
        "# fill missing\n", 
        "fill_missing(dataset.values)\n", 
        "# add a column for for the remainder of sub metering\n", 
        "values = dataset.values\n", 
        "dataset['sub_metering_4'] = (values[:,0] * 1000 / 60) - (values[:,4] + values[:,5] + values[:,6])\n", 
        "# save updated dataset\n", 
        "dataset.to_csv('household_power_consumption.csv')"
      ], 
      "cell_type": "code", 
      "execution_count": null, 
      "outputs": [], 
      "metadata": {}
    }
  ], 
  "metadata": {
    "kernelspec": {
      "display_name": "Python 3", 
      "name": "python3", 
      "language": "python"
    }, 
    "language_info": {
      "mimetype": "text/x-python", 
      "nbconvert_exporter": "python", 
      "name": "python", 
      "file_extension": ".py", 
      "version": "3.6.1", 
      "pygments_lexer": "ipython3", 
      "codemirror_mode": {
        "version": 3, 
        "name": "ipython"
      }
    }, 
    "anaconda-cloud": {}
  }
}