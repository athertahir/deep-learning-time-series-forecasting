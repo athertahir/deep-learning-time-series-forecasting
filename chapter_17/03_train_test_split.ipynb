{
  "nbformat_minor": 1, 
  "nbformat": 4, 
  "cells": [
    {
      "source": [
        "# split the power usage dataset into standard weeks\n", 
        "from numpy import split\n", 
        "from numpy import array\n", 
        "from pandas import read_csv\n", 
        "import warnings\n", 
        "warnings.simplefilter(\"ignore\")\n", 
        "\n", 
        "# split a univariate dataset into train/test sets\n", 
        "def split_dataset(data):\n", 
        "\t# split into standard weeks\n", 
        "\ttrain, test = data[1:-328], data[-328:-6]\n", 
        "\t# restructure into windows of weekly data\n", 
        "\ttrain = array(split(train, len(train)/7))\n", 
        "\ttest = array(split(test, len(test)/7))\n", 
        "\treturn train, test\n", 
        "\n", 
        "# load the new file\n", 
        "dataset = read_csv('household_power_consumption_days.csv', header=0, infer_datetime_format=True, parse_dates=['datetime'], index_col=['datetime'])\n", 
        "train, test = split_dataset(dataset.values)\n", 
        "# validate train data\n", 
        "print(train.shape)\n", 
        "print(train[0, 0, 0], train[-1, -1, 0])\n", 
        "# validate test\n", 
        "print(test.shape)\n", 
        "print(test[0, 0, 0], test[-1, -1, 0])"
      ], 
      "cell_type": "code", 
      "execution_count": null, 
      "outputs": [], 
      "metadata": {}
    }
  ], 
  "metadata": {
    "kernelspec": {
      "display_name": "Python 3", 
      "name": "python3", 
      "language": "python"
    }, 
    "language_info": {
      "mimetype": "text/x-python", 
      "nbconvert_exporter": "python", 
      "name": "python", 
      "file_extension": ".py", 
      "version": "3.6.1", 
      "pygments_lexer": "ipython3", 
      "codemirror_mode": {
        "version": 3, 
        "name": "ipython"
      }
    }, 
    "anaconda-cloud": {}
  }
}