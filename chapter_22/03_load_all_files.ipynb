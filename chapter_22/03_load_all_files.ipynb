{
  "nbformat_minor": 1, 
  "nbformat": 4, 
  "cells": [
    {
      "source": [
        "# load all train and test data from the har dataset\n", 
        "from numpy import dstack\n", 
        "from pandas import read_csv\n", 
        "import warnings\n", 
        "warnings.simplefilter(\"ignore\")\n", 
        "\n", 
        "# load a single file as a numpy array\n", 
        "def load_file(filepath):\n", 
        "\tdataframe = read_csv(filepath, header=None, delim_whitespace=True)\n", 
        "\treturn dataframe.values\n", 
        "\n", 
        "# load a list of files, such as x, y, z data for a given variable\n", 
        "def load_group(filenames, prefix=''):\n", 
        "\tloaded = list()\n", 
        "\tfor name in filenames:\n", 
        "\t\tdata = load_file(prefix + name)\n", 
        "\t\tloaded.append(data)\n", 
        "\t# stack group so that features are the 3rd dimension\n", 
        "\tloaded = dstack(loaded)\n", 
        "\treturn loaded\n", 
        "\n", 
        "# load a dataset group, such as train or test\n", 
        "def load_dataset(group, prefix=''):\n", 
        "\tfilepath = prefix + group + '/Inertial Signals/'\n", 
        "\t# load all 9 files as a single array\n", 
        "\tfilenames = list()\n", 
        "\t# total acceleration\n", 
        "\tfilenames += ['total_acc_x_'+group+'.txt', 'total_acc_y_'+group+'.txt', 'total_acc_z_'+group+'.txt']\n", 
        "\t# body acceleration\n", 
        "\tfilenames += ['body_acc_x_'+group+'.txt', 'body_acc_y_'+group+'.txt', 'body_acc_z_'+group+'.txt']\n", 
        "\t# body gyroscope\n", 
        "\tfilenames += ['body_gyro_x_'+group+'.txt', 'body_gyro_y_'+group+'.txt', 'body_gyro_z_'+group+'.txt']\n", 
        "\t# load input data\n", 
        "\tX = load_group(filenames, filepath)\n", 
        "\t# load class output\n", 
        "\ty = load_file(prefix + group + '/y_'+group+'.txt')\n", 
        "\treturn X, y\n", 
        "\n", 
        "# load all train\n", 
        "trainX, trainy = load_dataset('train', 'HARDataset/')\n", 
        "print(trainX.shape, trainy.shape)\n", 
        "# load all test\n", 
        "testX, testy = load_dataset('test', 'HARDataset/')\n", 
        "print(testX.shape, testy.shape)"
      ], 
      "cell_type": "code", 
      "execution_count": null, 
      "outputs": [], 
      "metadata": {}
    }
  ], 
  "metadata": {
    "kernelspec": {
      "display_name": "Python 3", 
      "name": "python3", 
      "language": "python"
    }, 
    "language_info": {
      "mimetype": "text/x-python", 
      "nbconvert_exporter": "python", 
      "name": "python", 
      "file_extension": ".py", 
      "version": "3.6.1", 
      "pygments_lexer": "ipython3", 
      "codemirror_mode": {
        "version": 3, 
        "name": "ipython"
      }
    }, 
    "anaconda-cloud": {}
  }
}