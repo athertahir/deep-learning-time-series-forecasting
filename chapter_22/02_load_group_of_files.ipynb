{
  "nbformat_minor": 1, 
  "nbformat": 4, 
  "cells": [
    {
      "source": [
        "# load group of files from the har dataset\n", 
        "from numpy import dstack\n", 
        "from pandas import read_csv\n", 
        "import warnings\n", 
        "warnings.simplefilter(\"ignore\")\n", 
        "\n", 
        "# load a single file as a numpy array\n", 
        "def load_file(filepath):\n", 
        "\tdataframe = read_csv(filepath, header=None, delim_whitespace=True)\n", 
        "\treturn dataframe.values\n", 
        "\n", 
        "# load a list of files, such as x, y, z data for a given variable\n", 
        "def load_group(filenames, prefix=''):\n", 
        "\tloaded = list()\n", 
        "\tfor name in filenames:\n", 
        "\t\tdata = load_file(prefix + name)\n", 
        "\t\tloaded.append(data)\n", 
        "\t# stack group so that features are the 3rd dimension\n", 
        "\tloaded = dstack(loaded)\n", 
        "\treturn loaded\n", 
        "\n", 
        "# load the total acc data\n", 
        "filenames = ['total_acc_x_train.txt', 'total_acc_y_train.txt', 'total_acc_z_train.txt']\n", 
        "total_acc = load_group(filenames, prefix='HARDataset/train/Inertial Signals/')\n", 
        "print(total_acc.shape)"
      ], 
      "cell_type": "code", 
      "execution_count": null, 
      "outputs": [], 
      "metadata": {}
    }
  ], 
  "metadata": {
    "kernelspec": {
      "display_name": "Python 3", 
      "name": "python3", 
      "language": "python"
    }, 
    "language_info": {
      "mimetype": "text/x-python", 
      "nbconvert_exporter": "python", 
      "name": "python", 
      "file_extension": ".py", 
      "version": "3.6.1", 
      "pygments_lexer": "ipython3", 
      "codemirror_mode": {
        "version": 3, 
        "name": "ipython"
      }
    }, 
    "anaconda-cloud": {}
  }
}