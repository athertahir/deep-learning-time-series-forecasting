{
  "nbformat_minor": 1, 
  "nbformat": 4, 
  "cells": [
    {
      "source": [
        "# summarize class balance from the har dataset\n", 
        "from numpy import vstack\n", 
        "from pandas import read_csv\n", 
        "import warnings\n", 
        "warnings.simplefilter(\"ignore\")\n", 
        "from pandas import DataFrame\n", 
        "\n", 
        "# load a single file as a numpy array\n", 
        "def load_file(filepath):\n", 
        "\tdataframe = read_csv(filepath, header=None, delim_whitespace=True)\n", 
        "\treturn dataframe.values\n", 
        "\n", 
        "# summarize the balance of classes in an output variable column\n", 
        "def class_breakdown(data):\n", 
        "\t# convert the numpy array into a dataframe\n", 
        "\tdf = DataFrame(data)\n", 
        "\t# group data by the class value and calculate the number of rows\n", 
        "\tcounts = df.groupby(0).size()\n", 
        "\t# retrieve raw rows\n", 
        "\tcounts = counts.values\n", 
        "\t# summarize\n", 
        "\tfor i in range(len(counts)):\n", 
        "\t\tpercent = counts[i] / len(df) * 100\n", 
        "\t\tprint('Class=%d, total=%d, percentage=%.3f' % (i+1, counts[i], percent))\n", 
        "\n", 
        "# load train file\n", 
        "trainy = load_file('HARDataset/train/y_train.txt')\n", 
        "# summarize class breakdown\n", 
        "print('Train Dataset')\n", 
        "class_breakdown(trainy)\n", 
        "\n", 
        "# load test file\n", 
        "testy = load_file('HARDataset/test/y_test.txt')\n", 
        "# summarize class breakdown\n", 
        "print('Test Dataset')\n", 
        "class_breakdown(testy)\n", 
        "\n", 
        "# summarize combined class breakdown\n", 
        "print('Both')\n", 
        "combined = vstack((trainy, testy))\n", 
        "class_breakdown(combined)"
      ], 
      "cell_type": "code", 
      "execution_count": null, 
      "outputs": [], 
      "metadata": {}
    }
  ], 
  "metadata": {
    "kernelspec": {
      "display_name": "Python 3", 
      "name": "python3", 
      "language": "python"
    }, 
    "language_info": {
      "mimetype": "text/x-python", 
      "nbconvert_exporter": "python", 
      "name": "python", 
      "file_extension": ".py", 
      "version": "3.6.1", 
      "pygments_lexer": "ipython3", 
      "codemirror_mode": {
        "version": 3, 
        "name": "ipython"
      }
    }, 
    "anaconda-cloud": {}
  }
}