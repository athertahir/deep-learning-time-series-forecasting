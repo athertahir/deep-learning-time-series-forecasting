{
  "nbformat_minor": 1, 
  "nbformat": 4, 
  "cells": [
    {
      "source": [
        "# load and plot monthly airline passengers dataset\n", 
        "from pandas import read_csv\n", 
        "import warnings\n", 
        "warnings.simplefilter(\"ignore\")\n", 
        "%matplotlib inline\n", 
        "from matplotlib import pyplot\n", 
        "# load\n", 
        "series = read_csv('monthly-airline-passengers.csv', header=0, index_col=0)\n", 
        "# summarize shape\n", 
        "print(series.shape)\n", 
        "# plot\n", 
        "pyplot.plot(series)\n", 
        "pyplot.xticks([])\n", 
        "pyplot.show()"
      ], 
      "cell_type": "code", 
      "execution_count": null, 
      "outputs": [], 
      "metadata": {}
    }
  ], 
  "metadata": {
    "kernelspec": {
      "display_name": "Python 3", 
      "name": "python3", 
      "language": "python"
    }, 
    "language_info": {
      "mimetype": "text/x-python", 
      "nbconvert_exporter": "python", 
      "name": "python", 
      "file_extension": ".py", 
      "version": "3.6.1", 
      "pygments_lexer": "ipython3", 
      "codemirror_mode": {
        "version": 3, 
        "name": "ipython"
      }
    }, 
    "anaconda-cloud": {}
  }
}